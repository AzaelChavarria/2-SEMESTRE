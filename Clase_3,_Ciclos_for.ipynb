{
  "nbformat": 4,
  "nbformat_minor": 0,
  "metadata": {
    "colab": {
      "provenance": [],
      "authorship_tag": "ABX9TyPsxnsZndElf4FK3keHl+Fl",
      "include_colab_link": true
    },
    "kernelspec": {
      "name": "python3",
      "display_name": "Python 3"
    },
    "language_info": {
      "name": "python"
    }
  },
  "cells": [
    {
      "cell_type": "markdown",
      "metadata": {
        "id": "view-in-github",
        "colab_type": "text"
      },
      "source": [
        "<a href=\"https://colab.research.google.com/github/AzaelChavarria/2-SEMESTRE/blob/main/Clase_3%2C_Ciclos_for.ipynb\" target=\"_parent\"><img src=\"https://colab.research.google.com/assets/colab-badge.svg\" alt=\"Open In Colab\"/></a>"
      ]
    },
    {
      "cell_type": "markdown",
      "source": [
        "### **PRACTICA 3.** *Ciclos for*"
      ],
      "metadata": {
        "id": "lGyU6bKESEev"
      }
    },
    {
      "cell_type": "code",
      "execution_count": 16,
      "metadata": {
        "colab": {
          "base_uri": "https://localhost:8080/"
        },
        "id": "gnQM9EnJR8i4",
        "outputId": "2175b191-15f2-4bca-cbfe-9fac4d5332c2"
      },
      "outputs": [
        {
          "output_type": "stream",
          "name": "stdout",
          "text": [
            "Escribe una palabra Computadora\n",
            "Computadora\n",
            "Computadora\n",
            "Computadora\n",
            "Computadora\n",
            "Computadora\n",
            "Computadora\n",
            "Computadora\n",
            "Computadora\n",
            "Computadora\n",
            "Computadora\n",
            "5\n",
            "7\n",
            "9\n",
            "11\n",
            "13\n",
            "15\n",
            "17\n",
            "19\n",
            "5\n",
            "4\n",
            "3\n",
            "2\n",
            "1\n",
            "Mi universidad\n"
          ]
        }
      ],
      "source": [
        "#PROGRAMA 1. ESCRIBIR UN PROGRAMA QUE PIDA AL USUARIO UNA PALABRA Y LA MUESTRE 10 VECES EN PANTALLA.\n",
        "palabra = input(\"Escribe una palabra \")\n",
        "for i in range(10):\n",
        "  print(palabra)\n",
        "for i in range(5,20,2):\n",
        "  print(i)\n",
        "for i in range(5,0,-1):\n",
        "  print(i)\n",
        "s =(\"mi universidad\")\n",
        "print(s.capitalize())"
      ]
    },
    {
      "cell_type": "code",
      "source": [
        "\n",
        "#PROGRAMA 2. Programa que solicite un numero y lo muestre 100 veces incrementado 1\n",
        "numero = int(input(\"Introduce un numero: \"))\n",
        "for c in range(1, 101):\n",
        "  print(\"El nuvo numero es: \" + str(numero + c))"
      ],
      "metadata": {
        "colab": {
          "base_uri": "https://localhost:8080/"
        },
        "id": "z7d9JS-fSq2f",
        "outputId": "c4552db2-4083-4aac-f79f-c4d7193295a4"
      },
      "execution_count": 21,
      "outputs": [
        {
          "output_type": "stream",
          "name": "stdout",
          "text": [
            "Introduce un numero: 53\n",
            "El nuvo numero es: 54\n",
            "El nuvo numero es: 55\n",
            "El nuvo numero es: 56\n",
            "El nuvo numero es: 57\n",
            "El nuvo numero es: 58\n",
            "El nuvo numero es: 59\n",
            "El nuvo numero es: 60\n",
            "El nuvo numero es: 61\n",
            "El nuvo numero es: 62\n",
            "El nuvo numero es: 63\n",
            "El nuvo numero es: 64\n",
            "El nuvo numero es: 65\n",
            "El nuvo numero es: 66\n",
            "El nuvo numero es: 67\n",
            "El nuvo numero es: 68\n",
            "El nuvo numero es: 69\n",
            "El nuvo numero es: 70\n",
            "El nuvo numero es: 71\n",
            "El nuvo numero es: 72\n",
            "El nuvo numero es: 73\n",
            "El nuvo numero es: 74\n",
            "El nuvo numero es: 75\n",
            "El nuvo numero es: 76\n",
            "El nuvo numero es: 77\n",
            "El nuvo numero es: 78\n",
            "El nuvo numero es: 79\n",
            "El nuvo numero es: 80\n",
            "El nuvo numero es: 81\n",
            "El nuvo numero es: 82\n",
            "El nuvo numero es: 83\n",
            "El nuvo numero es: 84\n",
            "El nuvo numero es: 85\n",
            "El nuvo numero es: 86\n",
            "El nuvo numero es: 87\n",
            "El nuvo numero es: 88\n",
            "El nuvo numero es: 89\n",
            "El nuvo numero es: 90\n",
            "El nuvo numero es: 91\n",
            "El nuvo numero es: 92\n",
            "El nuvo numero es: 93\n",
            "El nuvo numero es: 94\n",
            "El nuvo numero es: 95\n",
            "El nuvo numero es: 96\n",
            "El nuvo numero es: 97\n",
            "El nuvo numero es: 98\n",
            "El nuvo numero es: 99\n",
            "El nuvo numero es: 100\n",
            "El nuvo numero es: 101\n",
            "El nuvo numero es: 102\n",
            "El nuvo numero es: 103\n",
            "El nuvo numero es: 104\n",
            "El nuvo numero es: 105\n",
            "El nuvo numero es: 106\n",
            "El nuvo numero es: 107\n",
            "El nuvo numero es: 108\n",
            "El nuvo numero es: 109\n",
            "El nuvo numero es: 110\n",
            "El nuvo numero es: 111\n",
            "El nuvo numero es: 112\n",
            "El nuvo numero es: 113\n",
            "El nuvo numero es: 114\n",
            "El nuvo numero es: 115\n",
            "El nuvo numero es: 116\n",
            "El nuvo numero es: 117\n",
            "El nuvo numero es: 118\n",
            "El nuvo numero es: 119\n",
            "El nuvo numero es: 120\n",
            "El nuvo numero es: 121\n",
            "El nuvo numero es: 122\n",
            "El nuvo numero es: 123\n",
            "El nuvo numero es: 124\n",
            "El nuvo numero es: 125\n",
            "El nuvo numero es: 126\n",
            "El nuvo numero es: 127\n",
            "El nuvo numero es: 128\n",
            "El nuvo numero es: 129\n",
            "El nuvo numero es: 130\n",
            "El nuvo numero es: 131\n",
            "El nuvo numero es: 132\n",
            "El nuvo numero es: 133\n",
            "El nuvo numero es: 134\n",
            "El nuvo numero es: 135\n",
            "El nuvo numero es: 136\n",
            "El nuvo numero es: 137\n",
            "El nuvo numero es: 138\n",
            "El nuvo numero es: 139\n",
            "El nuvo numero es: 140\n",
            "El nuvo numero es: 141\n",
            "El nuvo numero es: 142\n",
            "El nuvo numero es: 143\n",
            "El nuvo numero es: 144\n",
            "El nuvo numero es: 145\n",
            "El nuvo numero es: 146\n",
            "El nuvo numero es: 147\n",
            "El nuvo numero es: 148\n",
            "El nuvo numero es: 149\n",
            "El nuvo numero es: 150\n",
            "El nuvo numero es: 151\n",
            "El nuvo numero es: 152\n",
            "El nuvo numero es: 153\n"
          ]
        }
      ]
    },
    {
      "cell_type": "code",
      "source": [
        "#PROGRAMA 3. Ecribir un programa que pregunte al usuario su edad y muestre en pantalla todos los años que a cumplido desde 1 hasta su edad\n",
        "edad = int(input(\"Ingresa tu edad: \"))\n",
        "for e in range (1,edad+1):\n",
        " print(e)"
      ],
      "metadata": {
        "colab": {
          "base_uri": "https://localhost:8080/"
        },
        "id": "owhXK8TiS1YZ",
        "outputId": "cf29d2a2-5737-4720-9cd7-b5a4f3c908ec"
      },
      "execution_count": 20,
      "outputs": [
        {
          "output_type": "stream",
          "name": "stdout",
          "text": [
            "Ingresa tu edad: 20\n",
            "1\n",
            "2\n",
            "3\n",
            "4\n",
            "5\n",
            "6\n",
            "7\n",
            "8\n",
            "9\n",
            "10\n",
            "11\n",
            "12\n",
            "13\n",
            "14\n",
            "15\n",
            "16\n",
            "17\n",
            "18\n",
            "19\n",
            "20\n"
          ]
        }
      ]
    },
    {
      "cell_type": "code",
      "source": [
        "#PROGRAMA 4. Escribir un programa que pida al usuario un numero entero positivo y muestre por pantalla todos los numnero inpartes. Desde ese numero hasta el que solicito.\n",
        "numero = int(input(\"Dame un numero entero: \"))\n",
        "for i in range (1, numero + 1, 2):\n",
        "  print(i)"
      ],
      "metadata": {
        "colab": {
          "base_uri": "https://localhost:8080/"
        },
        "id": "2p8pEFoNTITj",
        "outputId": "aa7b455e-abde-4a06-a3e4-1b6b2912eccd"
      },
      "execution_count": 9,
      "outputs": [
        {
          "output_type": "stream",
          "name": "stdout",
          "text": [
            "Dame un numero entero: 20\n",
            "1\n",
            "3\n",
            "5\n",
            "7\n",
            "9\n",
            "11\n",
            "13\n",
            "15\n",
            "17\n",
            "19\n"
          ]
        }
      ]
    },
    {
      "cell_type": "code",
      "source": [
        "#PROGRAMA 5. Escribir un programa que solicite 10 numeros y que muestre la suma y el proimedio de esos 10 numeros. (\"Introduce un numero;: \")\n",
        "suma = 0\n",
        "for C in range(10):\n",
        "    numero = float(input(\"Introduce un numero: \"))\n",
        "    suma = suma + numero\n",
        "n= suma / 10\n",
        "print(n)"
      ],
      "metadata": {
        "colab": {
          "base_uri": "https://localhost:8080/"
        },
        "id": "hZG_FjM_Tdpw",
        "outputId": "2583e4d4-c803-4221-9bcf-526a07407e7c"
      },
      "execution_count": 10,
      "outputs": [
        {
          "output_type": "stream",
          "name": "stdout",
          "text": [
            "Introduce un numero: 10\n",
            "Introduce un numero: 9\n",
            "Introduce un numero: 7\n",
            "Introduce un numero: 7\n",
            "Introduce un numero: 8\n",
            "Introduce un numero: 9\n",
            "Introduce un numero: 10\n",
            "Introduce un numero: 7\n",
            "Introduce un numero: 10\n",
            "Introduce un numero: 10\n",
            "8.7\n"
          ]
        }
      ]
    },
    {
      "cell_type": "code",
      "source": [
        "#PROGRAMA 6. Escribir un programa que pida al usuario un numero y muestre un triangulo de la siguiente formna (minimo 5)\n",
        "#\n",
        "##\n",
        "###\n",
        "####\n",
        "#####\n",
        "n = int(input(\"Ingresa un numero: \"))\n",
        "for C in range(n):\n",
        "  print(\"*\" * (C+1))"
      ],
      "metadata": {
        "colab": {
          "base_uri": "https://localhost:8080/"
        },
        "id": "xOjFCCNmUnH3",
        "outputId": "7023280b-0348-40d7-9550-dd6becd7cb21"
      },
      "execution_count": 12,
      "outputs": [
        {
          "output_type": "stream",
          "name": "stdout",
          "text": [
            "Ingresa un numero: 5\n",
            "*\n",
            "**\n",
            "***\n",
            "****\n",
            "*****\n"
          ]
        }
      ]
    },
    {
      "cell_type": "code",
      "source": [
        "#PROGRAMA 7. Un programa donde me de las tablas de multiplicaer\n",
        "for i in range(1,11):\n",
        "  for k in range(1,11):\n",
        "   print(i*k,end=\"-\")\n",
        "  print()"
      ],
      "metadata": {
        "colab": {
          "base_uri": "https://localhost:8080/"
        },
        "id": "pfIpoC-La180",
        "outputId": "5ccbb235-be34-4ef6-bf1c-9ba99ba40330"
      },
      "execution_count": 18,
      "outputs": [
        {
          "output_type": "stream",
          "name": "stdout",
          "text": [
            "1-2-3-4-5-6-7-8-9-10-\n",
            "2-4-6-8-10-12-14-16-18-20-\n",
            "3-6-9-12-15-18-21-24-27-30-\n",
            "4-8-12-16-20-24-28-32-36-40-\n",
            "5-10-15-20-25-30-35-40-45-50-\n",
            "6-12-18-24-30-36-42-48-54-60-\n",
            "7-14-21-28-35-42-49-56-63-70-\n",
            "8-16-24-32-40-48-56-64-72-80-\n",
            "9-18-27-36-45-54-63-72-81-90-\n",
            "10-20-30-40-50-60-70-80-90-100-\n"
          ]
        }
      ]
    }
  ]
}