{
  "nbformat": 4,
  "nbformat_minor": 0,
  "metadata": {
    "colab": {
      "provenance": [],
      "authorship_tag": "ABX9TyPfOxl0VXhxRtcgsZ/QYyMB",
      "include_colab_link": true
    },
    "kernelspec": {
      "name": "python3",
      "display_name": "Python 3"
    },
    "language_info": {
      "name": "python"
    }
  },
  "cells": [
    {
      "cell_type": "markdown",
      "metadata": {
        "id": "view-in-github",
        "colab_type": "text"
      },
      "source": [
        "<a href=\"https://colab.research.google.com/github/AzaelChavarria/2-SEMESTRE/blob/main/Untitled2.ipynb\" target=\"_parent\"><img src=\"https://colab.research.google.com/assets/colab-badge.svg\" alt=\"Open In Colab\"/></a>"
      ]
    },
    {
      "cell_type": "markdown",
      "source": [
        "# **PRACTICA 2.** ***Condicionales***"
      ],
      "metadata": {
        "id": "uDi3jR0GhgPb"
      }
    },
    {
      "cell_type": "code",
      "execution_count": null,
      "metadata": {
        "colab": {
          "base_uri": "https://localhost:8080/"
        },
        "id": "Fcce4oB78Jkx",
        "outputId": "0af91b41-c003-4fa9-d709-71316cb8a106"
      },
      "outputs": [
        {
          "output_type": "stream",
          "name": "stdout",
          "text": [
            "¿Cual es tu edad? 20\n",
            "Eres mayor de edad\n"
          ]
        }
      ],
      "source": [
        "#Ejercicio 1. Escribir un programa que pregunte al usuario su edad y muestre en pantalla si es mayor de edad o no es mayor de edad\n",
        "\n",
        "edad = int(input(\"¿Cual es tu edad? \"))\n",
        "if edad >= 18:\n",
        "  print(\"Eres mayor de edad\")\n",
        "else:\n",
        "    print(\"Eres menor de edad\")"
      ]
    },
    {
      "cell_type": "code",
      "source": [
        "#Ejercicio 2. Escribir un programa que almacene la cadena de caracteres urcnet en una variable, pregunte al usuario por la contraseña e imprima por pantalla si la contraseña introducida por el usuario coincide con la guardada en la variable sin tener en cuentas mayúsculas y minusculas\n",
        "c = \"urcnet\"\n",
        "passw = input(\"¿Cual es tu contraseña? \")\n",
        "if c == passw.lower():\n",
        "  print(\"Tu contraseña es correcta.\")\n",
        "else:\n",
        "  print(\"Contraseña incorrecta.\")"
      ],
      "metadata": {
        "colab": {
          "base_uri": "https://localhost:8080/"
        },
        "id": "ZgxyIu4Q-M4n",
        "outputId": "1fc84302-be9d-4630-d28f-cbd9aa51c40f"
      },
      "execution_count": null,
      "outputs": [
        {
          "output_type": "stream",
          "name": "stdout",
          "text": [
            "¿Cual es tu contraseña? URCNET\n",
            "Tu contraseña es correcta.\n"
          ]
        }
      ]
    },
    {
      "cell_type": "code",
      "source": [
        "#Ejercicio 3. Para tributar un determinado impuesto se debe ser mayor de 16 años y tener unos ingresos superiores a $10,000 mensuales, escribir un programa que pregunte al usuario su edad y sus ingresos mensuales y nos diga si tiene que pagar impuestos o no.\n",
        "\n",
        "edad = int(input(\"¿Cual es tu edad? \"))\n",
        "if edad >= 16:\n",
        "  ingresos = int(input(\"¿De cuanto son tus ingresos mensuales? \"))\n",
        "  if ingresos >= 10000:\n",
        "    print(\"Tienes que tributar.\")\n",
        "  else:\n",
        "    print(\"Tus ingresos mensuales no es el mismo que se pide como requisito\")\n",
        "else:\n",
        "  print(\"Aun no eres apto para tributar.\")"
      ],
      "metadata": {
        "colab": {
          "base_uri": "https://localhost:8080/"
        },
        "id": "IkVpjdqbBQ_g",
        "outputId": "bf27a970-2794-430e-9d46-61202eec8df3"
      },
      "execution_count": null,
      "outputs": [
        {
          "output_type": "stream",
          "name": "stdout",
          "text": [
            "¿Cual es tu edad? 16\n",
            "¿De cuanto son tus ingresos mensuales? 10000\n",
            "Tienes que tributar.\n"
          ]
        }
      ]
    },
    {
      "cell_type": "code",
      "source": [
        "#Ejercicio 3. Simplificado\n",
        "edad = int(input(\"¿Cual es tu edad? \"))\n",
        "ingresos = float(input(\"¿Cuanto ganas? \"))\n",
        "if edad > 16 and ingresos >= 10000:\n",
        "  print(\"Pagas impuestos.\")\n",
        "else:\n",
        "  print(\"No pagas impuestos.\")"
      ],
      "metadata": {
        "colab": {
          "base_uri": "https://localhost:8080/"
        },
        "id": "cNWsa3U6Fe7G",
        "outputId": "07e7c5e7-f942-4ba7-9e94-2c4da768ad60"
      },
      "execution_count": null,
      "outputs": [
        {
          "output_type": "stream",
          "name": "stdout",
          "text": [
            "¿Cual es tu edad? 18\n",
            "¿Cuanto ganas? 20000\n",
            "Pagas impuestos.\n"
          ]
        }
      ]
    },
    {
      "cell_type": "code",
      "source": [
        "#Ejercicio 4. Los alumnos de un curso se han dividido en dos grupos A y B de acuerdo al genero y el nombre. El grupo A esta formado por las mujeres con un nombre anterior a la M y los hombres con nombre posterior a la N y el grupo B por el resto. Esribir un programa que pregunte al usuario su nombre y genero, y muestre en pantalla el grupo que le corresponde.\n",
        "\n",
        "name = input(\"¿Cual es tu nombre? \")\n",
        "genero = input(\"Tu genero F o M \")\n",
        "if genero == \"F\":\n",
        "  if name.lower() < \"M\" :\n",
        "    grupo = \"A\"\n",
        "  else:\n",
        "    grupo = \"B\"\n",
        "else:\n",
        "  if name.lower() > \"n\" :\n",
        "    grupo = \"A\"\n",
        "  else:\n",
        "    grupo = \"B\"\n",
        "print(\"Tu grupo es \" + grupo)"
      ],
      "metadata": {
        "colab": {
          "base_uri": "https://localhost:8080/"
        },
        "id": "4TMx9ly3GZta",
        "outputId": "07215357-58dd-4e4b-edf7-879b1863bed7"
      },
      "execution_count": null,
      "outputs": [
        {
          "output_type": "stream",
          "name": "stdout",
          "text": [
            "¿Cual es tu nombre? Azael\n",
            "Tu genero F o M M\n",
            "Tu grupo es B\n"
          ]
        }
      ]
    },
    {
      "cell_type": "code",
      "source": [
        "#Ejercicio 5. La pezzeria Bella Napili ofrece pizzas vegetarianas y no vegetarianas a sus clientes. Los ingredientes para cada tipon de pizza aparecen a continuación. INGREDIENTES VEGETARIANOS: Pimiento y champiñiones. Ingrediente no vegetarianos . Escribir un programa que pregunte al usuarios si quiere una pizza vegetariana\n",
        "print(\"Bienvenido, Pizzeria Bella Napoli. 1-Vegetariana, 2- No vegetariana \")\n",
        "tipo = int(input(\"Opcion\"))\n",
        "if tipo == 1:\n",
        "  print(\"1-Pimiento o 2-Champiñones\")\n",
        "  ingrediente = input(\"tu ingrediente\")\n",
        "  if ingrediente == \"1\":\n",
        "    print(\"Tu pizza es de: Pimiento con Mozarella y tomate.\")\n",
        "  else:\n",
        "    print(\"Tu pizza es de: Champiñones con Mozarella y tomate.\")\n",
        "else:\n",
        "  print(\"1-Peperoni, 2-Jamón, 3-Salomón\")\n",
        "  ingrediente = input(\"tu ingrediente\")\n",
        "  if ingrediente == \"1\":\n",
        "    print(\"Tu pizza es de: Peperoni con Mozarella y tomate.\")\n",
        "  elif ingrediente == \"2\":\n",
        "    print(\"Tu pizza es de: Jamón con Mozarella y tomate.\")\n",
        "  else:\n",
        "    print(\"Tu pizza es de: Salomón Mozarella y tomate.\"\n"
      ],
      "metadata": {
        "colab": {
          "base_uri": "https://localhost:8080/"
        },
        "id": "oCcexJQLLuYT",
        "outputId": "4bd3d4e2-f778-4499-e042-e5c445f7db0f"
      },
      "execution_count": null,
      "outputs": [
        {
          "output_type": "stream",
          "name": "stdout",
          "text": [
            "Bienvenido, Pizzeria Bella Napoli. 1-Vegetariana, 2- No vegetariana \n",
            "Opcion2\n",
            "1-Peperoni, 2-Jamón, 3-Salomón\n",
            "tu ingrediente1\n",
            "Tu pizza es de: Peperoni con Mozarella y tomate.\n"
          ]
        }
      ]
    }
  ]
}