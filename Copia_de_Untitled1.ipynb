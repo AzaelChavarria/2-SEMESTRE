{
  "nbformat": 4,
  "nbformat_minor": 0,
  "metadata": {
    "colab": {
      "provenance": [],
      "authorship_tag": "ABX9TyMQQ0FK7KVjfAxKSipjeo/z",
      "include_colab_link": true
    },
    "kernelspec": {
      "name": "python3",
      "display_name": "Python 3"
    },
    "language_info": {
      "name": "python"
    }
  },
  "cells": [
    {
      "cell_type": "markdown",
      "metadata": {
        "id": "view-in-github",
        "colab_type": "text"
      },
      "source": [
        "<a href=\"https://colab.research.google.com/github/AzaelChavarria/Laboratorio_102/blob/main/Copia_de_Untitled1.ipynb\" target=\"_parent\"><img src=\"https://colab.research.google.com/assets/colab-badge.svg\" alt=\"Open In Colab\"/></a>"
      ]
    },
    {
      "cell_type": "code",
      "execution_count": null,
      "metadata": {
        "colab": {
          "base_uri": "https://localhost:8080/"
        },
        "id": "5CTMVh1br7Ba",
        "outputId": "4bcd63fc-8d70-4dcf-e742-d4e4577108e4"
      },
      "outputs": [
        {
          "output_type": "stream",
          "name": "stdout",
          "text": [
            "Uiversidad Rosario Castellanos - Ciencia de Datos\n"
          ]
        }
      ],
      "source": [
        "#Practica 1 tipo de datos simples\n",
        "print(\"Uiversidad Rosario Castellanos - Ciencia de Datos\")"
      ]
    },
    {
      "cell_type": "code",
      "source": [
        "#Practica 2\n",
        "print(\"Bienvenidos, 2024 URC\")"
      ],
      "metadata": {
        "colab": {
          "base_uri": "https://localhost:8080/"
        },
        "id": "F0XI4u9ps33i",
        "outputId": "13a8456c-e001-4720-a418-08d77c28e6ce"
      },
      "execution_count": null,
      "outputs": [
        {
          "output_type": "stream",
          "name": "stdout",
          "text": [
            "Bienvenidos, 2024 URC\n"
          ]
        }
      ]
    },
    {
      "cell_type": "code",
      "source": [
        "#Practica 3\n",
        "#print(\"Introduce tu nombre: \")\n",
        "name = input(\"Introduce tu nombre: \")\n",
        "print(\"Hola, \" + name + \"!\")"
      ],
      "metadata": {
        "colab": {
          "base_uri": "https://localhost:8080/"
        },
        "id": "hTdy4mCntg-i",
        "outputId": "725b7977-4678-4308-e698-67175f581289"
      },
      "execution_count": null,
      "outputs": [
        {
          "output_type": "stream",
          "name": "stdout",
          "text": [
            "Introduce tu nombre: Azael Chavarria Montiel \n",
            "Hola, Azael Chavarria Montiel !\n"
          ]
        }
      ]
    },
    {
      "cell_type": "code",
      "source": [
        "#Practica 4\n",
        "name = input(\"¿Como te llamas? \")\n",
        "n = input(\"introduce un número entero: \")\n",
        "print((name + \"\\n\") * int(n))"
      ],
      "metadata": {
        "colab": {
          "base_uri": "https://localhost:8080/"
        },
        "id": "XwBaDNkuudPV",
        "outputId": "bb1e2802-4e45-493a-b09d-874d714b1ce2"
      },
      "execution_count": null,
      "outputs": [
        {
          "output_type": "stream",
          "name": "stdout",
          "text": [
            "¿Como te llamas? Azael Chavarria \n",
            "introduce un número entero: 5\n",
            "Azael Chavarria \n",
            "Azael Chavarria \n",
            "Azael Chavarria \n",
            "Azael Chavarria \n",
            "Azael Chavarria \n",
            "\n"
          ]
        }
      ]
    },
    {
      "cell_type": "code",
      "source": [
        "#PRACTICA 5 ESCRIBIR UN PROGRAMA QUE MUESTRE EL NOMBRE EN MATYUSCULAS Y QUE MUESTRE EL NUMERO DE CARACTERES QUE TIENE\n",
        "name = input(\"¿Como te llamas? \")\n",
        "print(name.upper() + \" tiene \" + str(len(name)) + \" letras\")"
      ],
      "metadata": {
        "colab": {
          "base_uri": "https://localhost:8080/"
        },
        "id": "RIi-7Pc3v7Pr",
        "outputId": "b60f9a35-f90d-4a0b-ecfe-44b93000123e"
      },
      "execution_count": null,
      "outputs": [
        {
          "output_type": "stream",
          "name": "stdout",
          "text": [
            "¿Como te llamas? Azael\n",
            "AZAEL tiene 5 letras\n"
          ]
        }
      ]
    },
    {
      "cell_type": "code",
      "source": [
        "from re import M\n",
        "#Practica 5  escribe un programa que pregunte las horas trabajadas y el costo por hora\n",
        "name = input(\"Introduce tu nombre: \")\n",
        "print(\"Hola, \" + name + \"!\")\n",
        "h = float(input(\"Introduce tus horas trabajadas \"))\n",
        "c = float(input(\"Introduce el costo por hora \"))\n",
        "paga = h*c\n",
        "print(name + \". Tu paga es \" + str(paga))\n",
        "\n",
        "\n"
      ],
      "metadata": {
        "colab": {
          "base_uri": "https://localhost:8080/"
        },
        "id": "kPkPHYv3xK1a",
        "outputId": "0cca4eb4-2dce-46b9-c7ad-b29cc4fc6366"
      },
      "execution_count": null,
      "outputs": [
        {
          "output_type": "stream",
          "name": "stdout",
          "text": [
            "Introduce tu nombre: Azael\n",
            "Hola, Azael!\n",
            "Introduce tus horas trabajadas 6\n",
            "Introduce el costo por hora 200\n",
            "Azael. Tu paga es 1200.0\n"
          ]
        }
      ]
    },
    {
      "cell_type": "code",
      "source": [
        "from ast import While\n",
        "#Practica 8 Escribir un programa que pida al usuario su peso en kilogramos y estatura en metros, calcula el indice de masa corporal\n",
        "name = input(\"Introduce tu nombre: \")\n",
        "print(\"Hola, \" + name + \"!\")\n",
        "p = (input(\"¿Cuanto pesas? \"))\n",
        "e = (input(\"¿Cual es tu estatura? \"))\n",
        "imc = p/e*2\n",
        "print(name + \". Tu masa corporal es \" + str(imc))"
      ],
      "metadata": {
        "id": "sq_PyKRM0ZQw"
      },
      "execution_count": null,
      "outputs": []
    }
  ]
}