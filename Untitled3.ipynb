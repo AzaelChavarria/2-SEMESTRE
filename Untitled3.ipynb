{
  "nbformat": 4,
  "nbformat_minor": 0,
  "metadata": {
    "colab": {
      "provenance": [],
      "authorship_tag": "ABX9TyNoRj7uCZfTCSiZXSFPXFwI",
      "include_colab_link": true
    },
    "kernelspec": {
      "name": "python3",
      "display_name": "Python 3"
    },
    "language_info": {
      "name": "python"
    }
  },
  "cells": [
    {
      "cell_type": "markdown",
      "metadata": {
        "id": "view-in-github",
        "colab_type": "text"
      },
      "source": [
        "<a href=\"https://colab.research.google.com/github/AzaelChavarria/2-SEMESTRE/blob/main/Untitled3.ipynb\" target=\"_parent\"><img src=\"https://colab.research.google.com/assets/colab-badge.svg\" alt=\"Open In Colab\"/></a>"
      ]
    },
    {
      "cell_type": "markdown",
      "source": [
        "# **PRACTICA 1.** ***`Tipos de datos simples`***\n"
      ],
      "metadata": {
        "id": "21gRvVcvVc-J"
      }
    },
    {
      "cell_type": "code",
      "source": [
        "#Ejecicio 1. Escribir un programa que muestre por pantalla la frase ¡Hola Instituto Universitario Rosario Castellanos !\n",
        "\n",
        "print(\"Uiversidad Rosario Castellanos - Ciencia de Datos\")"
      ],
      "metadata": {
        "colab": {
          "base_uri": "https://localhost:8080/"
        },
        "id": "Gzv4X60FVqXe",
        "outputId": "cd8f3f85-6b61-49eb-e61b-f0a0d0bb55cd"
      },
      "execution_count": 1,
      "outputs": [
        {
          "output_type": "stream",
          "name": "stdout",
          "text": [
            "Uiversidad Rosario Castellanos - Ciencia de Datos\n"
          ]
        }
      ]
    },
    {
      "cell_type": "code",
      "source": [
        "# Ejercicio 2.\n",
        "print(\"Bienvenidos, 2024 URC\")"
      ],
      "metadata": {
        "colab": {
          "base_uri": "https://localhost:8080/"
        },
        "id": "b8WwtaTZWG8W",
        "outputId": "a55ded24-b809-4924-eebb-ba468dfd8a95"
      },
      "execution_count": 2,
      "outputs": [
        {
          "output_type": "stream",
          "name": "stdout",
          "text": [
            "Bienvenidos, 2024 URC\n"
          ]
        }
      ]
    },
    {
      "cell_type": "code",
      "source": [
        "#Ejrcici 3. Escribir un programa que pregunte el nombre del usuario en la consola y después de que el usuario lo introduzca muestre por pantalla la cadena ¡Hola <nombre>!, donde <nombre> es el nombre que el usuario haya introducido.\n",
        "name = input(\"Introduce tu nombre: \")\n",
        "print(\"Hola, \" + name + \"!\")\n",
        ""
      ],
      "metadata": {
        "colab": {
          "base_uri": "https://localhost:8080/"
        },
        "id": "nE6pzol8Woge",
        "outputId": "a2db83d5-95c5-4984-8ed5-a74e7b6b9f2a"
      },
      "execution_count": 3,
      "outputs": [
        {
          "output_type": "stream",
          "name": "stdout",
          "text": [
            "Introduce tu nombre: Azael Chavarria\n",
            "Hola, Azael Chavarria!\n"
          ]
        }
      ]
    },
    {
      "cell_type": "code",
      "source": [
        "#Ejercicio 4. Escribir un programa que pregunte el nombre del usuario en la consola y un número entero e imprima por pantalla en líneas distintas el nombre del usuario tantas veces como el número introducido.\n",
        "name = input(\"¿Como te llamas? \")\n",
        "n = input(\"introduce un número entero: \")\n",
        "print((name + \"\\n\") * int(n))"
      ],
      "metadata": {
        "colab": {
          "base_uri": "https://localhost:8080/"
        },
        "id": "WygxsrUtXDNG",
        "outputId": "cdc33f2e-4142-40f6-a982-4d46a8f91e48"
      },
      "execution_count": 4,
      "outputs": [
        {
          "output_type": "stream",
          "name": "stdout",
          "text": [
            "¿Como te llamas? Azael Chavarria\n",
            "introduce un número entero: 5\n",
            "Azael Chavarria\n",
            "Azael Chavarria\n",
            "Azael Chavarria\n",
            "Azael Chavarria\n",
            "Azael Chavarria\n",
            "\n"
          ]
        }
      ]
    },
    {
      "cell_type": "code",
      "source": [
        "#Ejercicio 5 ESCRIBIR UN PROGRAMA QUE MUESTRE EL NOMBRE EN MATYUSCULAS Y QUE MUESTRE EL NUMERO DE CARACTERES QUE TIENE\n",
        "name = input(\"¿Como te llamas? \")\n",
        "print(name.upper() + \" tiene \" + str(len(name)) + \" letras\")"
      ],
      "metadata": {
        "colab": {
          "base_uri": "https://localhost:8080/"
        },
        "id": "VhpmZFPsXiWI",
        "outputId": "2cd248e1-fb2c-45d7-c278-30ed3d1ebcb9"
      },
      "execution_count": 5,
      "outputs": [
        {
          "output_type": "stream",
          "name": "stdout",
          "text": [
            "¿Como te llamas? Azael\n",
            "AZAEL tiene 5 letras\n"
          ]
        }
      ]
    },
    {
      "cell_type": "code",
      "source": [
        "#Ejercicio 6. Escribe un programa que pregunte al usuario por el número de horas trabajadas y el coste por hora. Después debe mostrar por pantalla la paga que le corresponde.\n",
        "name = input(\"Introduce tu nombre: \")\n",
        "print(\"Hola, \" + name + \"!\")\n",
        "h = float(input(\"Introduce tus horas trabajadas \"))\n",
        "c = float(input(\"Introduce el costo por hora \"))\n",
        "paga = h*c\n",
        "print(name + \". Tu paga es \" + str(paga))"
      ],
      "metadata": {
        "colab": {
          "base_uri": "https://localhost:8080/"
        },
        "id": "KuEwn2FLYDBa",
        "outputId": "eff2ac4b-be60-453d-c511-275d81acd131"
      },
      "execution_count": 6,
      "outputs": [
        {
          "output_type": "stream",
          "name": "stdout",
          "text": [
            "Introduce tu nombre: Azael\n",
            "Hola, Azael!\n",
            "Introduce tus horas trabajadas 6\n",
            "Introduce el costo por hora 250\n",
            "Azael. Tu paga es 1500.0\n"
          ]
        }
      ]
    },
    {
      "cell_type": "code",
      "source": [
        "#Ejercicio 7. Escribir un programa que pida al usuario su peso en kilogramos y estatura en metros, calcula el indice de masa corporal\n",
        "name = input(\"Introduce tu nombre: \")\n",
        "print(\"Hola, \" + name + \"!\")\n",
        "p = float((input(\"¿Cual es tu peso en kg? \")))\n",
        "e = float((input(\"¿Cual es tu estatura? \")))\n",
        "imc = p/e*2\n",
        "print(name + \". Tu masa corporal es \" + str(imc))"
      ],
      "metadata": {
        "colab": {
          "base_uri": "https://localhost:8080/"
        },
        "id": "O4Q7IPrJYeRk",
        "outputId": "03388369-f453-4ded-8878-d0cc2a89ac7d"
      },
      "execution_count": 13,
      "outputs": [
        {
          "output_type": "stream",
          "name": "stdout",
          "text": [
            "Introduce tu nombre: Azael\n",
            "Hola, Azael!\n",
            "¿Cual es tu peso en kg? 55\n",
            "¿Cual es tu estatura? 1.60\n",
            "Azael. Tu masa corporal es 68.75\n"
          ]
        }
      ]
    }
  ]
}